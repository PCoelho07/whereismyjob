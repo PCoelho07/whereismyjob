{
 "cells": [
  {
   "cell_type": "code",
   "execution_count": 1,
   "metadata": {
    "collapsed": true
   },
   "outputs": [],
   "source": [
    "from bs4 import BeautifulSoup\n",
    "import requests\n",
    "import pandas as pd"
   ]
  },
  {
   "cell_type": "code",
   "execution_count": 2,
   "metadata": {
    "collapsed": true
   },
   "outputs": [],
   "source": [
    "link_page = 'https://programathor.com.br/jobs?remoto=true'\n",
    "\n",
    "response = requests.get(link_page)\n",
    "page_content = BeautifulSoup(response.content, \"html.parser\")"
   ]
  },
  {
   "cell_type": "code",
   "execution_count": 34,
   "metadata": {},
   "outputs": [
    {
     "name": "stdout",
     "output_type": "stream",
     "text": [
      "[u'/jobs/2580-programador-a-remoto', u'/jobs/2582-programador-a-php-codeigniter', u'/jobs/2552-react-developer-senior-remoto-react-redux-testes-unitarios-html-e-css', u'/jobs/2547-desenvolvimento-python-web-scrapping-selenium-mysql-remoto', u'/jobs/2523-estagio-programador-servidor-ragnarok-online', u'/jobs/2519-programador-a-java', u'/jobs/2517-programador-a-front-end', u'/jobs/2349-desenvolvedor-mobile', u'/jobs/2415-programador-mobile-react-native-remoto', u'/jobs/2347-analista-programador-fullstack-javascript']\n",
      "[None, None, None, None, None, None, None, None, None, None]\n"
     ]
    }
   ],
   "source": [
    "\n",
    "wrapper_jobs = page_content.find(class_=\"wrapper-jobs-list\")\n",
    "\n",
    "jobs = wrapper_jobs.find(class_=\"container\").find_all(class_=\"cell-list\")\n",
    "\n",
    "links = []\n",
    "vagas_nome = []\n",
    "\n",
    "for job in jobs:\n",
    "    links.append(job.find(\"a\").get('href'))\n",
    "    vagas_nome.append(job.find(\"a\").find('div', class_=\"cell-list-content\"))\n",
    "    \n",
    "results = {\n",
    "    'links': links,\n",
    "    'nome': vagas_nome\n",
    "\n",
    "}\n",
    "print links\n",
    "print vagas_nome"
   ]
  },
  {
   "cell_type": "code",
   "execution_count": 61,
   "metadata": {},
   "outputs": [
    {
     "name": "stdout",
     "output_type": "stream",
     "text": [
      "<div class=\"cell-logo hidden-xs\"><div class=\"logo-list\"><img alt=\"Villevox Tecnologia e ServiĂ§os\" src=\"https://res.cloudinary.com/programathor/image/upload/c_fit,h_100,w_100/v1531444599/syel7uj5k4whsujkxx32.jpg\"/></div></div>\n",
      "<div class=\"cell-logo hidden-xs\"><div class=\"logo-list\"><img alt=\"SecretĂĄria Virtual\" src=\"https://res.cloudinary.com/programathor/image/upload/c_fit,h_100,w_100/v1531400747/ysz6h0dxsv85v3bzmfk4.png\"/></div></div>\n",
      "<div class=\"cell-logo hidden-xs\"><div class=\"logo-list\"><img alt=\"Grifo\" src=\"https://res.cloudinary.com/programathor/image/upload/c_fit,h_100,w_100/v1530899692/e7q0ofpovzjskdlhswvc.png\"/></div></div>\n",
      "<div class=\"cell-logo hidden-xs\"><img alt=\"PWR\" class=\"logo-list\" src=\"https://programathor.com.br/assets/company_avatar-d1dce866939c838eba0b8ca892cc73cd59f7616fa1efaeb2e3596cb242fe3d77.png\"/></div>\n",
      "<div class=\"cell-logo hidden-xs\"><img alt=\"Ragnarok Privat\" class=\"logo-list\" src=\"https://programathor.com.br/assets/company_avatar-d1dce866939c838eba0b8ca892cc73cd59f7616fa1efaeb2e3596cb242fe3d77.png\"/></div>\n",
      "<div class=\"cell-logo hidden-xs\"><div class=\"logo-list\"><img alt=\"OSF Global Services\" src=\"https://res.cloudinary.com/programathor/image/upload/c_fit,h_100,w_100/v1495043742/ewwnlratna76pxh2s0hm.jpg\"/></div></div>\n",
      "<div class=\"cell-logo hidden-xs\"><div class=\"logo-list\"><img alt=\"OSF Global Services\" src=\"https://res.cloudinary.com/programathor/image/upload/c_fit,h_100,w_100/v1495043742/ewwnlratna76pxh2s0hm.jpg\"/></div></div>\n",
      "<div class=\"cell-logo hidden-xs\"><div class=\"logo-list\"><img alt=\"Ukor\" src=\"https://res.cloudinary.com/programathor/image/upload/c_fit,h_100,w_100/v1531242233/lkhrbkntuos455binni2.png\"/></div></div>\n",
      "<div class=\"cell-logo hidden-xs\"><div class=\"logo-list\"><img alt=\"MyPharma\" src=\"https://res.cloudinary.com/programathor/image/upload/c_fit,h_100,w_100/v1529697276/zz9lfv3kzpvdbiwuo7ih.png\"/></div></div>\n",
      "<div class=\"cell-logo hidden-xs\"><div class=\"logo-list\"><img alt=\"Ukor\" src=\"https://res.cloudinary.com/programathor/image/upload/c_fit,h_100,w_100/v1531242233/lkhrbkntuos455binni2.png\"/></div></div>\n"
     ]
    }
   ],
   "source": [
    "for job in jobs:\n",
    "    print job.find('a').find(class_='row').find(class_='col-sm-3').find(class_='cell-logo hidden-xs').find(class_='logo-list')"
   ]
  }
 ],
 "metadata": {
  "kernelspec": {
   "display_name": "Python 2",
   "language": "python",
   "name": "python2"
  },
  "language_info": {
   "codemirror_mode": {
    "name": "ipython",
    "version": 2
   },
   "file_extension": ".py",
   "mimetype": "text/x-python",
   "name": "python",
   "nbconvert_exporter": "python",
   "pygments_lexer": "ipython2",
   "version": "2.7.12"
  }
 },
 "nbformat": 4,
 "nbformat_minor": 2
}
