{
 "cells": [
  {
   "cell_type": "code",
   "execution_count": 1,
   "metadata": {
    "collapsed": true
   },
   "outputs": [],
   "source": [
    "from bs4 import BeautifulSoup\n",
    "import requests\n",
    "import pandas as pd"
   ]
  },
  {
   "cell_type": "code",
   "execution_count": 2,
   "metadata": {
    "collapsed": true
   },
   "outputs": [],
   "source": [
    "link_page = 'https://programathor.com.br/jobs?remoto=true'\n",
    "\n",
    "response = requests.get(link_page)\n",
    "page_content = BeautifulSoup(response.content, \"html.parser\")"
   ]
  },
  {
   "cell_type": "code",
   "execution_count": 33,
   "metadata": {},
   "outputs": [
    {
     "name": "stdout",
     "output_type": "stream",
     "text": [
      "[u'/jobs/2580-programador-a-remoto', u'/jobs/2582-programador-a-php-codeigniter', u'/jobs/2552-react-developer-senior-remoto-react-redux-testes-unitarios-html-e-css', u'/jobs/2547-desenvolvimento-python-web-scrapping-selenium-mysql-remoto', u'/jobs/2523-estagio-programador-servidor-ragnarok-online', u'/jobs/2519-programador-a-java', u'/jobs/2517-programador-a-front-end', u'/jobs/2349-desenvolvedor-mobile', u'/jobs/2415-programador-mobile-react-native-remoto', u'/jobs/2347-analista-programador-fullstack-javascript']\n",
      "[None, None, None, None, None, None, None, None, None, None]\n"
     ]
    }
   ],
   "source": [
    "\n",
    "wrapper_jobs = page_content.find(class_=\"wrapper-jobs-list\")\n",
    "\n",
    "jobs = wrapper_jobs.find(class_=\"container\").find_all(class_=\"cell-list\")\n",
    "\n",
    "links = []\n",
    "vagas_nome = []\n",
    "\n",
    "for job in jobs:\n",
    "    links.append(job.find(\"a\").get('href'))\n",
    "    vagas_nome.append(job.find(\"a\").find('div', class_=\"cell-list-content\"))\n",
    "    \n",
    "results = {\n",
    "    'links': links,\n",
    "    'nome': vagas_nome\n",
    "\n",
    "}\n",
    "print links\n",
    "print vagas_nome"
   ]
  },
  {
   "cell_type": "code",
   "execution_count": 23,
   "metadata": {},
   "outputs": [
    {
     "data": {
      "text/plain": [
       "[None, None, None, None, None, None, None, None, None, None]"
      ]
     },
     "execution_count": 23,
     "metadata": {},
     "output_type": "execute_result"
    }
   ],
   "source": [
    "vagas_nome"
   ]
  }
 ],
 "metadata": {
  "kernelspec": {
   "display_name": "Python 2",
   "language": "python",
   "name": "python2"
  },
  "language_info": {
   "codemirror_mode": {
    "name": "ipython",
    "version": 2
   },
   "file_extension": ".py",
   "mimetype": "text/x-python",
   "name": "python",
   "nbconvert_exporter": "python",
   "pygments_lexer": "ipython2",
   "version": "2.7.12"
  }
 },
 "nbformat": 4,
 "nbformat_minor": 2
}
