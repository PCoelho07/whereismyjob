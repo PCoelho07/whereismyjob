{
 "cells": [
  {
   "cell_type": "code",
   "execution_count": 8,
   "metadata": {},
   "outputs": [],
   "source": [
    "from bs4 import BeautifulSoup\n",
    "import requests"
   ]
  },
  {
   "cell_type": "code",
   "execution_count": 11,
   "metadata": {},
   "outputs": [],
   "source": [
    "link_page = 'https://programathor.com.br/jobs?remoto=true'\n",
    "\n",
    "response = requests.get(link_page)\n",
    "page_content = BeautifulSoup(response.content, \"html.parser\")"
   ]
  },
  {
   "cell_type": "code",
   "execution_count": 47,
   "metadata": {},
   "outputs": [
    {
     "name": "stdout",
     "output_type": "stream",
     "text": [
      "[u'Desenvolvimento Python/Web Scrapping/Selenium/MySQL remoto', u'Estagio - Programador Servidor Ragnarok Online', u'Programador(a) Java', u'Programador(a) Front-end', u'Desenvolvedor Mobile', u'Programador Mobile React Native - REMOTO', u'Analista programador Fullstack Javascript', u'Fullstack Developer (Junior)', u'Programador Senior JAVA - Remoto', u'Desenvolvedor Front-end - Remoto']\n"
     ]
    }
   ],
   "source": [
    "\n",
    "wrapper_jobs = page_content.find(class_=\"wrapper-jobs-list\")\n",
    "\n",
    "jobs = wrapper_jobs.find(class_=\"container\").find_all(class_=\"cell-list\")\n",
    "\n",
    "links = []\n",
    "vagas_nome = []\n",
    "\n",
    "for job in jobs:\n",
    "    links.append(job.find(\"a\").get('href'))\n",
    "    vagas_nome.append(job.find(class_=\"cell-list-content\").h3.string)\n",
    "    \n",
    "print vagas_nome"
   ]
  },
  {
   "cell_type": "code",
   "execution_count": 38,
   "metadata": {},
   "outputs": [
    {
     "name": "stdout",
     "output_type": "stream",
     "text": [
      "Desenvolvedor Front-end - RemotoUkorSĂŁo Paulo / RemotoStartupAtĂŠ R$8.000SĂŞniorPJReduxReact NativeJavaScriptCSS\n"
     ]
    }
   ],
   "source": []
  }
 ],
 "metadata": {
  "kernelspec": {
   "display_name": "Python 2",
   "language": "python",
   "name": "python2"
  },
  "language_info": {
   "codemirror_mode": {
    "name": "ipython",
    "version": 2
   },
   "file_extension": ".py",
   "mimetype": "text/x-python",
   "name": "python",
   "nbconvert_exporter": "python",
   "pygments_lexer": "ipython2",
   "version": "2.7.12"
  }
 },
 "nbformat": 4,
 "nbformat_minor": 2
}
